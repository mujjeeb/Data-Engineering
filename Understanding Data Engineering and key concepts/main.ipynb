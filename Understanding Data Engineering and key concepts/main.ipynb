{
 "cells": [
  {
   "cell_type": "raw",
   "id": "a7bf5533",
   "metadata": {},
   "source": [
    " 1. Create a tuple of integers and find the sum of its elements."
   ]
  },
  {
   "cell_type": "code",
   "execution_count": 108,
   "id": "6896d67e",
   "metadata": {},
   "outputs": [
    {
     "name": "stdout",
     "output_type": "stream",
     "text": [
      "21\n"
     ]
    }
   ],
   "source": [
    "A=(1,2,3,4,5,6)\n",
    "print(sum(A))"
   ]
  },
  {
   "cell_type": "raw",
   "id": "68d3477a",
   "metadata": {},
   "source": [
    " 2. Create a set of strings and check if a given string is present in the set.\n"
   ]
  },
  {
   "cell_type": "code",
   "execution_count": 109,
   "id": "ddee2297",
   "metadata": {},
   "outputs": [
    {
     "name": "stdout",
     "output_type": "stream",
     "text": [
      "Nay\n"
     ]
    }
   ],
   "source": [
    "B={'car','boot','cup','laptop','computer','lamp','bread'}\n",
    "test_string='bowl'\n",
    "if (test_string in B):\n",
    "    print('Yay')\n",
    "else:print(\"Nay\")"
   ]
  },
  {
   "cell_type": "raw",
   "id": "1eae4a20",
   "metadata": {},
   "source": [
    "3. Create a dictionary of names and ages of 5 people and print the name of the youngest\n",
    "person."
   ]
  },
  {
   "cell_type": "code",
   "execution_count": 110,
   "id": "93bf3dcc",
   "metadata": {},
   "outputs": [
    {
     "name": "stdout",
     "output_type": "stream",
     "text": [
      "Miles\n"
     ]
    }
   ],
   "source": [
    "C={'Loki':60,'Thor':80,'Steve':200,'Miles': 14, 'Peter':17}\n",
    "\n",
    "youngest = min(C, key=C.get)\n",
    "print(youngest)"
   ]
  },
  {
   "cell_type": "raw",
   "id": "a54956aa",
   "metadata": {},
   "source": [
    "4. Create a tuple of mixed data types and print the number of integers in the tuple."
   ]
  },
  {
   "cell_type": "code",
   "execution_count": 111,
   "id": "fe1a2140",
   "metadata": {},
   "outputs": [
    {
     "name": "stdout",
     "output_type": "stream",
     "text": [
      "3\n"
     ]
    }
   ],
   "source": [
    "D=('dog',1,2.3,3,4,890000.90, 'cat', 'yellow')\n",
    "nr_int=0\n",
    "for i in D:\n",
    "    if isinstance(i, int):\n",
    "        nr_int +=1\n",
    "print(nr_int)\n",
    "       "
   ]
  },
  {
   "cell_type": "raw",
   "id": "2f172f24",
   "metadata": {},
   "source": [
    "5.  Create a set of integers and find the maximum value in the set."
   ]
  },
  {
   "cell_type": "code",
   "execution_count": 112,
   "id": "282a3c73",
   "metadata": {},
   "outputs": [
    {
     "name": "stdout",
     "output_type": "stream",
     "text": [
      "34\n"
     ]
    }
   ],
   "source": [
    "E={1,2,3,34,4,4,3,3}\n",
    "max_nr = max(E)\n",
    "# Alternatively\n",
    "# max_nr = 0\n",
    "#for i in E:\n",
    "#    if i > max_nr:\n",
    "#        max_nr = i\n",
    "print(max_nr)\n",
    "\n"
   ]
  },
  {
   "cell_type": "raw",
   "id": "e90efa60",
   "metadata": {},
   "source": [
    "6. Create a dictionary of student names and their test scores. Print the name of the student\n",
    "with the highest score."
   ]
  },
  {
   "cell_type": "code",
   "execution_count": 113,
   "id": "7291b4fa",
   "metadata": {},
   "outputs": [
    {
     "name": "stdout",
     "output_type": "stream",
     "text": [
      "Peter\n"
     ]
    }
   ],
   "source": [
    "F={'Loki':40,'Thor':80,'Steve':25,'Miles':60, 'Peter':95}\n",
    "highest = max(F, key=F.get)\n",
    "print(highest)\n"
   ]
  },
  {
   "cell_type": "raw",
   "id": "3b7a94e1",
   "metadata": {},
   "source": [
    "7. Create a tuple of tuples, where each inner tuple represents a coordinate in 3D space.\n",
    "Print the coordinates of the point that is farthest from the origin."
   ]
  },
  {
   "cell_type": "code",
   "execution_count": 114,
   "id": "303318c8",
   "metadata": {},
   "outputs": [
    {
     "name": "stdout",
     "output_type": "stream",
     "text": [
      "(7, 8, 9)\n"
     ]
    }
   ],
   "source": [
    "import math\n",
    "G=((2,3,4), (4,5,6), (7,8,9),(0,2,0),(5,5,5))\n",
    "distances =[]\n",
    "for x,y,z in G:\n",
    "    distances.append(((x**2)+(y**2)+(z**2))**(1/2))\n",
    "farthest_index = distances.index(max(distances))\n",
    "print(G[farthest_index])\n",
    "\n",
    "    "
   ]
  },
  {
   "cell_type": "raw",
   "id": "6463e4bc",
   "metadata": {},
   "source": [
    "8. Create a set of strings and remove all the vowels from the strings in the set."
   ]
  },
  {
   "cell_type": "code",
   "execution_count": 115,
   "id": "96d51e2a",
   "metadata": {},
   "outputs": [
    {
     "name": "stdout",
     "output_type": "stream",
     "text": [
      "byron\n",
      "peter\n",
      "kala\n",
      "yellow\n",
      "steve\n",
      "fareeda\n",
      "{'yllw', 'ptr', 'stv', 'frd', 'kl', 'byrn'}\n"
     ]
    }
   ],
   "source": [
    "H = {'steve','peter', 'yellow', 'kala', 'byron', 'fareeda'}\n",
    "vowels = ['a','e','i','o','u']\n",
    "H_without_vowels =set()\n",
    "for name in H:\n",
    "    new_list=[]\n",
    "    print(name)\n",
    "    for letter in name:\n",
    "        if letter.lower() not in vowels:\n",
    "            new_list.append(letter)\n",
    "    new_string=''.join(new_list)\n",
    "    H_without_vowels.add(new_string) \n",
    "print(H_without_vowels)   "
   ]
  },
  {
   "cell_type": "raw",
   "id": "edb7b52a",
   "metadata": {},
   "source": [
    "9. Create a dictionary of products and their prices. Print the product with the lowest price."
   ]
  },
  {
   "cell_type": "code",
   "execution_count": 65,
   "id": "4dbe63bd",
   "metadata": {},
   "outputs": [
    {
     "name": "stdout",
     "output_type": "stream",
     "text": [
      "Milk\n"
     ]
    }
   ],
   "source": [
    "I = {'Milk':300,'Cookies':4000,'Sandwich':2500,'Wine':10000,'Bread':1000}\n",
    "lowest_item = min(I, key=I.get)\n",
    "print(lowest_item)\n"
   ]
  },
  {
   "cell_type": "raw",
   "id": "5760bd89",
   "metadata": {},
   "source": [
    "10. Create a tuple of integers and remove all the even numbers from the tuple."
   ]
  },
  {
   "cell_type": "code",
   "execution_count": 76,
   "id": "554d4de5",
   "metadata": {},
   "outputs": [
    {
     "name": "stdout",
     "output_type": "stream",
     "text": [
      "(7, 73, 65, 45)\n"
     ]
    }
   ],
   "source": [
    "K = (7,78,8,4,73,6,65,56,45)\n",
    "new_list=[]\n",
    "for i in K:\n",
    "    if i%2 !=0:\n",
    "        new_list.append(i)\n",
    "new_tuple=tuple(new_list)\n",
    "print(new_tuple)"
   ]
  },
  {
   "cell_type": "raw",
   "id": "0579fc3b",
   "metadata": {},
   "source": [
    "11. Write a Python program to print all the even numbers from 0 to 50 using a for loop."
   ]
  },
  {
   "cell_type": "code",
   "execution_count": 80,
   "id": "81763bd5",
   "metadata": {},
   "outputs": [
    {
     "name": "stdout",
     "output_type": "stream",
     "text": [
      "2\n",
      "4\n",
      "6\n",
      "8\n",
      "10\n",
      "12\n",
      "14\n",
      "16\n",
      "18\n",
      "20\n",
      "22\n",
      "24\n",
      "26\n",
      "28\n",
      "30\n",
      "32\n",
      "34\n",
      "36\n",
      "38\n",
      "40\n",
      "42\n",
      "44\n",
      "46\n",
      "48\n"
     ]
    }
   ],
   "source": [
    "for i in range(50):\n",
    "    if i%2 == 0 and i!=0:\n",
    "        print(i)"
   ]
  },
  {
   "cell_type": "raw",
   "id": "93aca968",
   "metadata": {},
   "source": [
    "12. Write a Python program that takes an input from the user and prints whether the input is a prime number or not using\n",
    "a while loop."
   ]
  },
  {
   "cell_type": "code",
   "execution_count": 90,
   "id": "102c623a",
   "metadata": {},
   "outputs": [
    {
     "name": "stdout",
     "output_type": "stream",
     "text": [
      "Please enter a number: 23\n",
      "23 is a prime number.\n"
     ]
    }
   ],
   "source": [
    "user_input = int(input(\"Please enter a number: \"))\n",
    "\n",
    "if user_input <= 1:\n",
    "    is_prime = False\n",
    "else:\n",
    "    is_prime = True\n",
    "    i = 2\n",
    "    while i*i <= user_input:\n",
    "        if user_input % i == 0:\n",
    "            is_prime = False\n",
    "            break\n",
    "        i += 1\n",
    "\n",
    "if is_prime:\n",
    "    print(user_input, \"is a prime number.\")\n",
    "else:\n",
    "    print(user_input, \"is not a prime number.\")\n",
    "        "
   ]
  },
  {
   "cell_type": "raw",
   "id": "e6c158db",
   "metadata": {},
   "source": [
    "13. Write a Python program that takes a list of numbers and returns a new list containing only the prime numbers in the\n",
    "original list using a for loop."
   ]
  },
  {
   "cell_type": "code",
   "execution_count": 94,
   "id": "d8790f6f",
   "metadata": {},
   "outputs": [
    {
     "name": "stdout",
     "output_type": "stream",
     "text": [
      "Enter a list of numbers (space-separated): 12 3 43 4 4 43 3 345 45\n",
      "Prime numbers in the original list: [3, 43, 43, 3]\n"
     ]
    }
   ],
   "source": [
    "numbers = input(\"Enter a list of numbers (space-separated): \").split()\n",
    "\n",
    "numbers = [int(num) for num in numbers]\n",
    "\n",
    "prime_numbers = []\n",
    "\n",
    "for num in numbers:\n",
    "    if num <= 1:\n",
    "        continue  # Skip numbers less than or equal to 1\n",
    "\n",
    "    is_prime = True\n",
    "\n",
    "    for i in range(2, int(num ** 0.5) + 1):\n",
    "        if num % i == 0:\n",
    "            is_prime = False\n",
    "            break\n",
    "\n",
    "    if is_prime:\n",
    "        prime_numbers.append(num)\n",
    "\n",
    "print(\"Prime numbers in the original list:\", prime_numbers)"
   ]
  },
  {
   "cell_type": "raw",
   "id": "c53170ae",
   "metadata": {},
   "source": [
    "14. Write a Python program that takes an input from the user and prints whether the input is a palindrome or not using a\n",
    "while loop."
   ]
  },
  {
   "cell_type": "code",
   "execution_count": 96,
   "id": "56c56938",
   "metadata": {},
   "outputs": [
    {
     "name": "stdout",
     "output_type": "stream",
     "text": [
      "Enter a string: dod\n",
      "The string is a palindrome.\n"
     ]
    }
   ],
   "source": [
    "string = input(\"Enter a string: \")\n",
    "\n",
    "string = string.replace(\" \", \"\").lower()\n",
    "\n",
    "left = 0\n",
    "right = len(string) - 1\n",
    "is_palindrome = True\n",
    "\n",
    "while left < right:\n",
    "    if string[left] != string[right]:\n",
    "        is_palindrome = False\n",
    "        break\n",
    "    left += 1\n",
    "    right -= 1\n",
    "\n",
    "if is_palindrome:\n",
    "    print(\"The string is a palindrome.\")\n",
    "else:\n",
    "    print(\"The string is not a palindrome.\")"
   ]
  },
  {
   "cell_type": "raw",
   "id": "58e87b30",
   "metadata": {},
   "source": [
    "15. Write a Python program to print the multiplication table of a given number using a for loop"
   ]
  },
  {
   "cell_type": "code",
   "execution_count": 98,
   "id": "9ed0946f",
   "metadata": {},
   "outputs": [
    {
     "name": "stdout",
     "output_type": "stream",
     "text": [
      "Enter a number: 3\n",
      "Multiplication Table of 3\n",
      "3 x 1 = 3\n",
      "3 x 2 = 6\n",
      "3 x 3 = 9\n",
      "3 x 4 = 12\n",
      "3 x 5 = 15\n",
      "3 x 6 = 18\n",
      "3 x 7 = 21\n",
      "3 x 8 = 24\n",
      "3 x 9 = 27\n",
      "3 x 10 = 30\n",
      "3 x 11 = 33\n",
      "3 x 12 = 36\n"
     ]
    }
   ],
   "source": [
    "number = int(input(\"Enter a number: \"))\n",
    "\n",
    "print(\"Multiplication Table of\", number)\n",
    "for i in range(1, 13):\n",
    "    product = number * i\n",
    "    print(number, \"x\", i, \"=\", product)\n",
    "    "
   ]
  },
  {
   "cell_type": "raw",
   "id": "1d804a27",
   "metadata": {},
   "source": [
    "16. Write a Python program that takes a list of strings and returns a new list containing only the strings with length greater\n",
    "than 5 using a for loop."
   ]
  },
  {
   "cell_type": "code",
   "execution_count": 104,
   "id": "23680740",
   "metadata": {},
   "outputs": [
    {
     "name": "stdout",
     "output_type": "stream",
     "text": [
      "Enter a list of strings (space-separated): fv\n",
      "None of the strings have length greater than zero\n"
     ]
    }
   ],
   "source": [
    "strings = input(\"Enter a list of strings (space-separated): \").split()\n",
    "\n",
    "filtered_strings = []\n",
    "\n",
    "for string in strings:\n",
    "    if len(string) > 5:\n",
    "        filtered_strings.append(string)\n",
    "if len(filtered_strings)>0:\n",
    "    print(\"Strings with length greater than 5:\", filtered_strings)\n",
    "    \n",
    "else:\n",
    "    print(\"None of the strings have length greater than zero\")"
   ]
  },
  {
   "cell_type": "raw",
   "id": "dff8d244",
   "metadata": {},
   "source": [
    "17. Write a Python program that takes an input from the user and prints whether the input is a Armstrong number or not\n",
    "using a while loop."
   ]
  },
  {
   "cell_type": "code",
   "execution_count": null,
   "id": "c5523633",
   "metadata": {},
   "outputs": [],
   "source": [
    "number = int(input(\"Enter a number: \"))\n",
    "\n",
    "num_digits = len(str(number))\n",
    "\n",
    "temp = number\n",
    "sum = 0\n",
    "\n",
    "while temp > 0:\n",
    "    digit = temp % 10\n",
    "    sum += digit ** num_digits\n",
    "    temp //= 10\n",
    "\n",
    "if number == sum:\n",
    "    print(number, \"is an Armstrong number.\")\n",
    "else:\n",
    "    print(number, \"is not an Armstrong number.\")"
   ]
  },
  {
   "cell_type": "raw",
   "id": "2b487fb4",
   "metadata": {},
   "source": [
    "18. Write a Python program that takes a list of numbers and returns a new list containing the squares of each number in the original list using a for loop."
   ]
  },
  {
   "cell_type": "code",
   "execution_count": 105,
   "id": "7c140fdf",
   "metadata": {},
   "outputs": [
    {
     "name": "stdout",
     "output_type": "stream",
     "text": [
      "Enter a list of numbers (space-separated): 23 3 3 3\n",
      "Squares of the numbers: [529, 9, 9, 9]\n"
     ]
    }
   ],
   "source": [
    "numbers = input(\"Enter a list of numbers (space-separated): \").split()\n",
    "\n",
    "numbers = [int(num) for num in numbers]\n",
    "\n",
    "squares = []\n",
    "\n",
    "for num in numbers:\n",
    "    square = num ** 2\n",
    "    squares.append(square)\n",
    "\n",
    "print(\"Squares of the numbers:\", squares)\n"
   ]
  },
  {
   "cell_type": "raw",
   "id": "641012f1",
   "metadata": {},
   "source": [
    "19. Write a Python program that takes two inputs from the user, a base number and an exponent, and prints the result of\n",
    "raising the base number to the exponent using a while loop."
   ]
  },
  {
   "cell_type": "code",
   "execution_count": 106,
   "id": "ed80a959",
   "metadata": {},
   "outputs": [
    {
     "name": "stdout",
     "output_type": "stream",
     "text": [
      "Enter the base number: 12\n",
      "Enter the exponent: 2\n",
      "12.0 raised to the power of 2 is: 144.0\n"
     ]
    }
   ],
   "source": [
    "base = float(input(\"Enter the base number: \"))\n",
    "exponent = int(input(\"Enter the exponent: \"))\n",
    "\n",
    "result = 1\n",
    "counter = 0\n",
    "\n",
    "while counter < exponent:\n",
    "    result *= base\n",
    "    counter += 1\n",
    "\n",
    "print(f\"{base} raised to the power of {exponent} is: {result}\")\n"
   ]
  },
  {
   "cell_type": "raw",
   "id": "57ad1d4c",
   "metadata": {},
   "source": [
    "20. Write a Python program that takes a string as input and returns a new string with all the vowels removed using a for loop."
   ]
  },
  {
   "cell_type": "code",
   "execution_count": 107,
   "id": "17e46a0a",
   "metadata": {},
   "outputs": [
    {
     "name": "stdout",
     "output_type": "stream",
     "text": [
      "Enter a list of strings: goal\n",
      "gl\n"
     ]
    }
   ],
   "source": [
    "string = input(\"Enter a list of strings: \")\n",
    "vowels = ['a','e','i','o','u']\n",
    "string_without_vowels =\"\"\n",
    "for char in string:\n",
    "    if char.lower() not in vowels:\n",
    "        string_without_vowels += char\n",
    "print(string_without_vowels) "
   ]
  },
  {
   "cell_type": "code",
   "execution_count": null,
   "id": "f9eb89f0",
   "metadata": {},
   "outputs": [],
   "source": []
  }
 ],
 "metadata": {
  "kernelspec": {
   "display_name": "Python 3 (ipykernel)",
   "language": "python",
   "name": "python3"
  },
  "language_info": {
   "codemirror_mode": {
    "name": "ipython",
    "version": 3
   },
   "file_extension": ".py",
   "mimetype": "text/x-python",
   "name": "python",
   "nbconvert_exporter": "python",
   "pygments_lexer": "ipython3",
   "version": "3.9.12"
  }
 },
 "nbformat": 4,
 "nbformat_minor": 5
}
